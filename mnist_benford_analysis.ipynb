{
 "cells": [
  {
   "cell_type": "code",
   "execution_count": null,
   "metadata": {},
   "outputs": [],
   "source": [
    "# imports and settings\n",
    "import tensorflow as tf\n",
    "import numpy as np\n",
    "import pandas as pd\n",
    "import tqdm\n",
    "import cv2\n",
    "from math import log10, floor\n",
    "\n",
    "pd.options.plotting.backend = \"plotly\""
   ]
  },
  {
   "cell_type": "code",
   "execution_count": null,
   "metadata": {},
   "outputs": [],
   "source": [
    "# import and prepare data\n",
    "(train_images, train_labels), (test_images, test_labels) = tf.keras.datasets.mnist.load_data()\n",
    "images = np.append(train_images, test_images, axis=0)\n",
    "images = images.reshape(images.shape[0], 28, 28, 1).astype('float32')"
   ]
  },
  {
   "cell_type": "code",
   "execution_count": null,
   "metadata": {},
   "outputs": [],
   "source": [
    "# run dct on images and gather first significant digits\n",
    "fsd = []\n",
    "for image in tqdm.tqdm(images):\n",
    "    for dct in cv2.dct(image):\n",
    "        for n in dct:\n",
    "            num = int(abs(n * (10 ** -int(floor(log10(abs(n))))))) if n != 0 else 0\n",
    "            fsd.append(num)\n",
    "fsd = np.array(fsd)"
   ]
  },
  {
   "cell_type": "code",
   "execution_count": null,
   "metadata": {},
   "outputs": [],
   "source": [
    "# count fds\n",
    "count = []\n",
    "for i in range(1,10):\n",
    "    count.append(np.count_nonzero(fsd == i))\n",
    "count = count / np.sum(count)"
   ]
  },
  {
   "cell_type": "code",
   "execution_count": null,
   "metadata": {},
   "outputs": [],
   "source": [
    "# generate ground truth benfords law\n",
    "bf_law = []\n",
    "for i in range(1,10):\n",
    "    bf_law.append(log10(1 + (1 / i)))"
   ]
  },
  {
   "cell_type": "code",
   "execution_count": null,
   "metadata": {},
   "outputs": [],
   "source": [
    "# plot data tp compare fsd vs benfords law\n",
    "df = pd.DataFrame()\n",
    "df[\"digit\"] = [1,2,3,4,5,6,7,8,9]\n",
    "df[\"MNIST FSD count\"] = count\n",
    "df[\"Benfords Law (ground truth)\"] = bf_law\n",
    "\n",
    "df.plot(x=\"digit\", y=[\"MNIST FSD count\", \"Benfords Law (ground truth)\"],\n",
    "        labels={\n",
    "            \"digit\" : \"First Significant Digit (FSD)\",\n",
    "            \"value\" : \"Probability\"\n",
    "        })"
   ]
  }
 ],
 "metadata": {
  "kernelspec": {
   "display_name": "Python 3.10.7 64-bit",
   "language": "python",
   "name": "python3"
  },
  "language_info": {
   "codemirror_mode": {
    "name": "ipython",
    "version": 3
   },
   "file_extension": ".py",
   "mimetype": "text/x-python",
   "name": "python",
   "nbconvert_exporter": "python",
   "pygments_lexer": "ipython3",
   "version": "3.10.7"
  },
  "orig_nbformat": 4,
  "vscode": {
   "interpreter": {
    "hash": "e7370f93d1d0cde622a1f8e1c04877d8463912d04d973331ad4851f04de6915a"
   }
  }
 },
 "nbformat": 4,
 "nbformat_minor": 2
}
