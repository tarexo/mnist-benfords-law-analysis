{
 "cells": [
  {
   "cell_type": "markdown",
   "metadata": {},
   "source": [
    "# Benfords Law Analysis\n",
    "In this notebook analyze the **distribution of first significant digits** (FSD) of different aspects of an image.\n",
    "These could be for example:\n",
    "- The raw pixel values\n",
    "- The discrete cosine transformation (DCT) values\n",
    "\n",
    "Benfords law is an observation that in many collections of numbers, be they mathematical tables, real-life data, or combinations thereof, the leading significant digits are not uniformly distributed, as might be expected, but are heavily skewed toward the smaller digits. [[1](https://digitalcommons.calpoly.edu/cgi/viewcontent.cgi?article=1074&context=rgp_rsr)]\n",
    "\n",
    "It is mathematically defined as (simplified) [[2](https://arxiv.org/pdf/1506.03046.pdf)]:\n",
    "\n",
    "$$bf(d)=\\beta log_b(1+\\frac{1}{d})$$\n",
    "\n",
    "with $b$ being base ($10$ for \"normal\" numbers) and $d$ being the possible digits (for $b=10$: $\\{1,…,9\\}$). The corresponding plot for $b=10$ does look as follows:\n",
    "\n",
    "<img src=\"./benfords_law_ground_truth.png\" alt=\"Benfords Law\">\n",
    "\n",
    "It was shown, that **natural** image data (e.g. produced fotographs) also follows this distribution, but GAN generated images do not. This fact was used successfully by Bonettini and collegues in [[3](https://arxiv.org/pdf/2004.07682.pdf)] to distinguish between real and fake images.\n",
    "\n",
    "As an example dataset we will use the famous grayscale MNIST dataset, which is included in TensorFlow Keras."
   ]
  },
  {
   "cell_type": "code",
   "execution_count": null,
   "metadata": {},
   "outputs": [],
   "source": [
    "# Import packages and settings\n",
    "import glob\n",
    "import cv2 as cv\n",
    "import numpy as np\n",
    "import pandas as pd\n",
    "import bf_lib as bfl\n",
    "import tensorflow as tf\n",
    "import matplotlib.pyplot as plt\n",
    "\n",
    "from tqdm import tqdm\n",
    "from statics import FSD_FAST, FSD_SLOW, BASE_10\n",
    "\n",
    "pd.options.plotting.backend = \"plotly\""
   ]
  },
  {
   "cell_type": "markdown",
   "metadata": {},
   "source": [
    "## MNIST Dataset"
   ]
  },
  {
   "cell_type": "code",
   "execution_count": null,
   "metadata": {},
   "outputs": [],
   "source": [
    "# Import and prepare data\n",
    "(train_images, train_labels), (test_images, test_labels) = tf.keras.datasets.mnist.load_data()\n",
    "images = np.append(train_images, test_images, axis=0)\n",
    "images = images.reshape(images.shape[0], 28, 28, 1).astype('float32')"
   ]
  },
  {
   "cell_type": "markdown",
   "metadata": {},
   "source": [
    "### **DCT** whole image"
   ]
  },
  {
   "cell_type": "code",
   "execution_count": null,
   "metadata": {},
   "outputs": [],
   "source": [
    "# Run dct on images and gather first significant digits (Slow version - pure python)\n",
    "dcts = bfl.get_dct_array(images)\n",
    "fsd = bfl.to_fsd(dcts, mode=FSD_SLOW)\n",
    "\n",
    "# Count fsds\n",
    "fsd_count = bfl.count_fsds(fsd, base=BASE_10)\n",
    "\n",
    "# Calculate distribution of each digit\n",
    "fsd_count_dist = fsd_count / np.sum(fsd_count)\n",
    "\n",
    "# Plot distribution against the ground truth benfords law\n",
    "bfl.plot_df_comparison(fsd_count_dist=fsd_count_dist, title=\"DCT FSDs vs. Benfords Law\")"
   ]
  },
  {
   "cell_type": "code",
   "execution_count": null,
   "metadata": {},
   "outputs": [],
   "source": [
    "# Run dct on images and gather first significant digits (Fast version - numpy)\n",
    "dcts = bfl.get_dct_array(images)\n",
    "fsd = bfl.to_fsd(dcts, mode=FSD_FAST)\n",
    "\n",
    "# Count fsds\n",
    "fsd_count = bfl.count_fsds(fsd, base=BASE_10)\n",
    "\n",
    "# Calculate distribution of each digit\n",
    "fsd_count_dist = fsd_count / np.sum(fsd_count)\n",
    "\n",
    "# Plot distribution against the ground truth benfords law\n",
    "bfl.plot_df_comparison(fsd_count_dist, title=\"DCT FSDs vs. Benfords Law\")"
   ]
  },
  {
   "cell_type": "markdown",
   "metadata": {},
   "source": [
    "### **Raw** images"
   ]
  },
  {
   "cell_type": "markdown",
   "metadata": {},
   "source": [
    "Without normalization..."
   ]
  },
  {
   "cell_type": "code",
   "execution_count": null,
   "metadata": {},
   "outputs": [],
   "source": [
    "# Gather first significant digits on raw images\n",
    "i = images.flatten()\n",
    "fsd = bfl.to_fsd(i)\n",
    "\n",
    "# Count fsds\n",
    "fsd_count = bfl.count_fsds(fsd, base=BASE_10)\n",
    "\n",
    "# Calculate distribution of each digit\n",
    "fsd_count_dist_raw_mnist = fsd_count / np.sum(fsd_count)\n",
    "\n",
    "# Plot distribution against the ground truth benfords law\n",
    "bfl.plot_df_comparison(fsd_count_dist, title=\"Raw MNIST Images FSDs vs. Benfords Law\")"
   ]
  },
  {
   "cell_type": "markdown",
   "metadata": {},
   "source": [
    "...and with normalization."
   ]
  },
  {
   "cell_type": "code",
   "execution_count": null,
   "metadata": {},
   "outputs": [],
   "source": [
    "# Gather first significant digits on raw normalized images\n",
    "i = images.flatten()\n",
    "# i = np.array([(p - np.min(i)) / (np.max(i) - np.min(i)) for p in images])\n",
    "i = (i - np.min(i)) / (np.max(i) - np.min(i))\n",
    "\n",
    "fsd = bfl.to_fsd(i)\n",
    "\n",
    "# Count fsds\n",
    "fsd_count = bfl.count_fsds(fsd, base=BASE_10)\n",
    "\n",
    "# Calculate distribution of each digit\n",
    "fsd_count_dist_normalized_mnist = fsd_count / np.sum(fsd_count)\n",
    "\n",
    "# Plot distribution against the ground truth benfords law\n",
    "bfl.plot_df_comparison(fsd_count_dist, title=\"Raw Normalized MNIST Images FSDs vs. Benfords Law\")"
   ]
  },
  {
   "cell_type": "code",
   "execution_count": null,
   "metadata": {},
   "outputs": [],
   "source": [
    "#########################\n",
    "# DOES NOT WORK FOR NOW #\n",
    "#########################\n",
    "\n",
    "# FSDs on quantized DC transformed MNIST\n",
    "# image_blocks = np.array([img_to_blocks(image) for image in images])\n",
    "# print(images.shape)\n",
    "# print(image_blocks.shape) # 7000 images, 9 blocks per image, 8x8 blocks\n",
    "# image_blocks = image_blocks - 128\n",
    "# print(f\"Image block: \\n{image_blocks[0][4]}\")\n",
    "\n",
    "# block_dcts = np.array([[cv2.dct(block) for block in image] for image in image_blocks])\n",
    "# print(block_dcts.shape)\n",
    "# print(f\"DCT block: \\n{block_dcts[0][4]}\")\n",
    "\n",
    "# quantized_blocks = np.array([[quantize_block(block) for block in block_dct] for block_dct in block_dcts])\n",
    "# print(quantized_blocks.shape)\n",
    "# print(f\"Quantization block: \\n{quantized_blocks[0][4]}\")\n",
    "\n",
    "# f_quantized_blocks = quantized_blocks.flatten()\n",
    "# fsd = to_fsd(f_quantized_blocks)\n",
    "# fsd_count = count_fsds(fsd, base=BASE_10)\n",
    "# fsd_count_dist = fsd_count / np.sum(fsd_count)\n",
    "\n",
    "# plot_df_comparison(fsd_count_dist, title=\"Quantized DC transformed MNIST vs. Benfords Law\")"
   ]
  },
  {
   "cell_type": "markdown",
   "metadata": {},
   "source": [
    "### **Quantized** DCT blocks"
   ]
  },
  {
   "cell_type": "code",
   "execution_count": null,
   "metadata": {},
   "outputs": [],
   "source": [
    "# FSDs on quantized DC transformed MNIST\n",
    "fd_list = np.array([0] * 9)\n",
    "i_s = np.array([image.reshape(28,28) for image in images])\n",
    "for img in tqdm(i_s):\n",
    "    image_blocks = bfl.img_to_blocks(img)\n",
    "    # print(image_blocks.shape) # 7000 images, 9 blocks per image, 8x8 blocks\n",
    "    image_blocks = image_blocks - 128\n",
    "    # print(image_blocks[4])\n",
    "\n",
    "    block_dcts = np.array([cv.dct(block) for block in image_blocks])\n",
    "    # print(block_dcts.shape)\n",
    "    # print(f\"DCT block: \\n{block_dcts[4]}\")\n",
    "\n",
    "    quantized_blocks = np.array([bfl.quantize_block(block) for block in block_dcts])\n",
    "    # print(quantized_blocks.shape)\n",
    "    # print(f\"Quantization block: \\n{quantized_blocks[0]}\")\n",
    "\n",
    "    fsds = np.array([bfl.to_fsd(q.flatten()) for q in quantized_blocks])\n",
    "    # print(f\"FSD: \\n{fsd}\")\n",
    "    # if 2 in fsds[0]:\n",
    "    #     print(\"Number included\")\n",
    "    # else:\n",
    "    #     print(\"Number not inlcuded\")\n",
    "    # fsd = to_fsd(f_quantized_blocks)\n",
    "    # fsd_count = count_fsds(fsd[0], base=BASE_10)\n",
    "    # fsd_count_dist = fsd_count / np.sum(fsd_count)\n",
    "    for fsd in fsds:\n",
    "        for i in range(1,10):\n",
    "            if i in fsd:\n",
    "                fd_list[i-1] += 1\n",
    "print(fd_list)\n",
    "fd_list = np.array(fd_list) / (len(images) * 9)\n",
    "# fd_list = np.array(fd_list) / np.sum(fd_list)\n",
    "\n",
    "\n",
    "bfl.plot_df_comparison(fd_list, title=\"Quantized DC transformed MNIST vs. Benfords Law\")"
   ]
  },
  {
   "cell_type": "markdown",
   "metadata": {},
   "source": [
    "## GAN generated images"
   ]
  },
  {
   "cell_type": "code",
   "execution_count": null,
   "metadata": {},
   "outputs": [],
   "source": [
    "horses = np.array([cv.imread(file, cv.IMREAD_GRAYSCALE) for file in glob.glob(\"horses/000000/*.png\")]).astype(\"float32\")\n",
    "print(horses.shape)\n",
    "print(horses[0].shape)\n",
    "plt.imshow(horses[0], cmap=plt.cm.gray)\n",
    "plt.show()"
   ]
  },
  {
   "cell_type": "markdown",
   "metadata": {},
   "source": [
    "### DCT whole image"
   ]
  },
  {
   "cell_type": "code",
   "execution_count": null,
   "metadata": {},
   "outputs": [],
   "source": [
    "dcts = bfl.get_dct_array(horses)\n",
    "fsd = bfl.to_fsd(dcts)\n",
    "fsd_count = bfl.count_fsds(fsd)\n",
    "fsd_count_dist = fsd_count / np.sum(fsd_count)\n",
    "\n",
    "bfl.plot_df_comparison(fsd_count_dist=fsd_count_dist, title=\"GAN DCT FSDs vs. Benfords Law\")"
   ]
  },
  {
   "cell_type": "markdown",
   "metadata": {},
   "source": [
    "### Raw images"
   ]
  },
  {
   "cell_type": "markdown",
   "metadata": {},
   "source": [
    "Without normalization..."
   ]
  },
  {
   "cell_type": "code",
   "execution_count": null,
   "metadata": {},
   "outputs": [],
   "source": [
    "h = horses.flatten()\n",
    "fsd = bfl.to_fsd(h)\n",
    "fsd_count = bfl.count_fsds(fsd)\n",
    "fsd_count_dist_raw_gan = fsd_count / np.sum(fsd_count)\n",
    "\n",
    "bfl.plot_df_comparison(fsd_count_dist=fsd_count_dist, title=\"Raw GAN FSDs vs. Benfords Law\")"
   ]
  },
  {
   "cell_type": "markdown",
   "metadata": {},
   "source": [
    "...and with normalization."
   ]
  },
  {
   "cell_type": "code",
   "execution_count": null,
   "metadata": {},
   "outputs": [],
   "source": [
    "# Gather first significant digits on raw normalized images\n",
    "flattened_horses = horses.flatten()\n",
    "i = (flattened_horses - np.min(flattened_horses)) / (np.max(flattened_horses) - np.min(flattened_horses))\n",
    "\n",
    "fsd = bfl.to_fsd(i)\n",
    "\n",
    "# Count fsds\n",
    "fsd_count = bfl.count_fsds(fsd, base=BASE_10)\n",
    "\n",
    "# Calculate distribution of each digit\n",
    "fsd_count_dist_normalized_gan = fsd_count / np.sum(fsd_count)\n",
    "\n",
    "# Plot distribution against the ground truth benfords law\n",
    "bfl.plot_df_comparison(fsd_count_dist_normalized_gan, title=\"Raw Normalized MNIST Images FSDs vs. Benfords Law\")"
   ]
  },
  {
   "cell_type": "markdown",
   "metadata": {},
   "source": [
    "### Quantized DCT blocks"
   ]
  },
  {
   "cell_type": "code",
   "execution_count": null,
   "metadata": {},
   "outputs": [],
   "source": [
    "# FSDs on quantized DC transformed MNIST\n",
    "fd_list = [0] * 9\n",
    "# i_s = np.array([image.reshape(28,28) for image in images])\n",
    "horses = np.array([cv.imread(file, cv.IMREAD_GRAYSCALE) for file in glob.glob(\"horses/000000/*.png\")]).astype(\"float32\")\n",
    "for img in tqdm(horses):\n",
    "    image_blocks = bfl.img_to_blocks(img)\n",
    "    # print(image_blocks.shape) # 7000 images, 9 blocks per image, 8x8 blocks\n",
    "    image_blocks = image_blocks - 128\n",
    "    # print(image_blocks[4])\n",
    "\n",
    "    block_dcts = np.array([cv.dct(block) for block in image_blocks])\n",
    "    # print(block_dcts.shape)\n",
    "    # print(f\"DCT block: \\n{block_dcts[4]}\")\n",
    "\n",
    "    quantized_blocks = np.array([bfl.quantize_block(block) for block in block_dcts])\n",
    "    # print(quantized_blocks.shape)\n",
    "    # print(f\"Quantization block: \\n{quantized_blocks[0]}\")\n",
    "\n",
    "    fsds = np.array([bfl.to_fsd(q.flatten()) for q in quantized_blocks])\n",
    "    # print(f\"FSD: \\n{fsd}\")\n",
    "    # if 2 in fsds[0]:\n",
    "    #     print(\"Number included\")\n",
    "    # else:\n",
    "    #     print(\"Number not inlcuded\")\n",
    "    # fsd = to_fsd(f_quantized_blocks)\n",
    "    # fsd_count = count_fsds(fsd[0], base=BASE_10)\n",
    "    # fsd_count_dist = fsd_count / np.sum(fsd_count)\n",
    "\n",
    "    \n",
    "    # print(fd_list)\n",
    "    for fsd in fsds:\n",
    "        for i in range(1,10):\n",
    "            if i in fsd:\n",
    "                fd_list[i-1] += 1\n",
    "print(fd_list)\n",
    "# fd_list = np.array(fd_list) / (len(images) * 9)\n",
    "fd_list = np.array(fd_list) / np.sum(fd_list)# (len(horses) * 1024)\n",
    "\n",
    "bfl.plot_df_comparison(fd_list, title=\"Quantized DC transformed GAN vs. Benfords Law\")"
   ]
  },
  {
   "cell_type": "code",
   "execution_count": null,
   "metadata": {},
   "outputs": [],
   "source": [
    "# from plotly.subplots import make_subplots\n",
    "# df = pd.DataFrame()\n",
    "# df[\"digit\"] = [i for i in range(1, 10, 1)]\n",
    "# df[\"MNIST FSD count\"] = fsd_count_dist_normalized_mnist\n",
    "# df[\"GAN FSD COUNT\"] = fsd_count_dist_normalized_gan\n",
    "# df[\"Benfords Law (ground truth)\"] = bfl.benfords_law()\n",
    "\n",
    "\n",
    "# fig = make_subplots(rows=2, cols=1)\n",
    "# fig.add_bar(x=df[\"digit\"], y=df[\"MNIST FSD count\"], name=\"Measurements normalized MNIST\", hoverinfo=\"y\", row=1, col=1)\n",
    "# fig.add_scatter(x=df[\"digit\"], y=df[\"Benfords Law (ground truth)\"], name=\"Ground Truth\", hoverinfo=\"y\", row=1, col=1)\n",
    "# fig.add_bar(x=df[\"digit\"], y=df[\"GAN FSD COUNT\"], name=\"Measurements normalized  GAN\", hoverinfo=\"y\", row=2, col=1)\n",
    "# fig.add_scatter(x=df[\"digit\"], y=df[\"Benfords Law (ground truth)\"], name=\"Ground Truth\", hoverinfo=\"y\", row=2, col=1)\n",
    "# fig.update_layout(title=\"Raw normalized FSDs, MNIST (top) and GAN (bottom)\", xaxis_title=\"Digits\", yaxis_title=\"Distribution\")\n",
    "# fig.show(renderer=\"browser\")"
   ]
  }
 ],
 "metadata": {
  "kernelspec": {
   "display_name": "Python 3.10.7 64-bit",
   "language": "python",
   "name": "python3"
  },
  "language_info": {
   "codemirror_mode": {
    "name": "ipython",
    "version": 3
   },
   "file_extension": ".py",
   "mimetype": "text/x-python",
   "name": "python",
   "nbconvert_exporter": "python",
   "pygments_lexer": "ipython3",
   "version": "3.10.8"
  },
  "orig_nbformat": 4,
  "vscode": {
   "interpreter": {
    "hash": "e7370f93d1d0cde622a1f8e1c04877d8463912d04d973331ad4851f04de6915a"
   }
  }
 },
 "nbformat": 4,
 "nbformat_minor": 2
}
