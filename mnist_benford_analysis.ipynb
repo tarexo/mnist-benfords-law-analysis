{
 "cells": [
  {
   "cell_type": "code",
   "execution_count": null,
   "metadata": {},
   "outputs": [],
   "source": [
    "# imports and settings\n",
    "import tensorflow as tf\n",
    "import numpy as np\n",
    "import pandas as pd\n",
    "from tqdm import tqdm\n",
    "import cv2\n",
    "import glob\n",
    "import numpy.typing as npt\n",
    "from math import log10, floor\n",
    "\n",
    "pd.options.plotting.backend = \"plotly\""
   ]
  },
  {
   "cell_type": "code",
   "execution_count": null,
   "metadata": {},
   "outputs": [],
   "source": [
    "# import and prepare data\n",
    "(train_images, train_labels), (test_images, test_labels) = tf.keras.datasets.mnist.load_data()\n",
    "images = np.append(train_images, test_images, axis=0)\n",
    "images = images.reshape(images.shape[0], 28, 28, 1).astype('float32')"
   ]
  },
  {
   "cell_type": "code",
   "execution_count": null,
   "metadata": {},
   "outputs": [],
   "source": [
    "# run dct on images and gather first significant digits\n",
    "fsd = []\n",
    "dcts = np.array([cv2.dct(image) for image in images])\n",
    "dcts = dcts.flatten()\n",
    "dcts = dcts[dcts != 0]\n",
    "for n in tqdm(dcts):\n",
    "    num = int(abs(n * (10 ** -int(floor(log10(abs(n))))))) if n != 0 else 0\n",
    "    fsd.append(num)\n",
    "fsd = np.array(fsd)\n",
    "print(f\"Shape: {fsd.shape}\")\n",
    "print(f\"Sum: {np.sum(fsd)}\")\n",
    "#print(fsd)"
   ]
  },
  {
   "cell_type": "code",
   "execution_count": null,
   "metadata": {},
   "outputs": [],
   "source": [
    "# NUMPY run dct on images and gather first significant digits\n",
    "fsd_fast = [] #np.array([]).astype(int)\n",
    "dcts = np.array([cv2.dct(image) for image in images])\n",
    "n = dcts.flatten()\n",
    "n = n[n != 0]\n",
    "n = np.abs(n * np.power(np.full(n.shape, 10.), -np.floor(np.log10(np.abs(n).astype(\"float64\"))))).astype(\"int\")\n",
    "fsd_fast.extend(list(n))\n",
    "fsd_fast = np.array(fsd_fast)\n",
    "print(f\"Shape: {fsd_fast.shape}\")\n",
    "print(f\"Sum: {np.sum(fsd_fast)}\")"
   ]
  },
  {
   "cell_type": "code",
   "execution_count": null,
   "metadata": {},
   "outputs": [],
   "source": [
    "for i in range(len(fsd)):\n",
    "    if fsd[i] != fsd_fast[i]:\n",
    "        print(f\"different at index {i}, {fsd[i]} != {fsd_fast[i]}\")\n",
    "print(np.sum(fsd) == np.sum(fsd_fast))"
   ]
  },
  {
   "cell_type": "code",
   "execution_count": null,
   "metadata": {},
   "outputs": [],
   "source": [
    "# count fds\n",
    "count = []\n",
    "for i in range(1,10):\n",
    "    count.append(np.count_nonzero(fsd == i))\n",
    "count = count / np.sum(count)\n",
    "\n",
    "count_fast = []\n",
    "for i in range(1,10):\n",
    "    count_fast.append(np.count_nonzero(fsd_fast == i))\n",
    "count_fast = count_fast / np.sum(count_fast)\n",
    "\n",
    "print(count)\n",
    "print(count_fast)"
   ]
  },
  {
   "cell_type": "code",
   "execution_count": null,
   "metadata": {},
   "outputs": [],
   "source": [
    "# generate ground truth benfords law\n",
    "bf_law = []\n",
    "for i in range(1,10):\n",
    "    bf_law.append(log10(1 + (1 / i)))\n",
    "bf_law"
   ]
  },
  {
   "cell_type": "code",
   "execution_count": null,
   "metadata": {},
   "outputs": [],
   "source": [
    "# plot data tp compare fsd vs benfords law\n",
    "df = pd.DataFrame()\n",
    "df[\"digit\"] = [1,2,3,4,5,6,7,8,9]\n",
    "df[\"MNIST FSD count\"] = count\n",
    "df[\"Benfords Law (ground truth)\"] = bf_law\n",
    "\n",
    "df.plot(x=\"digit\", y=[\"MNIST FSD count\", \"Benfords Law (ground truth)\"],\n",
    "        labels={\n",
    "            \"digit\" : \"First Significant Digit (FSD)\",\n",
    "            \"value\" : \"Probability\"\n",
    "        })"
   ]
  },
  {
   "cell_type": "code",
   "execution_count": null,
   "metadata": {},
   "outputs": [],
   "source": [
    "horses = np.array([cv2.imread(file, cv2.IMREAD_GRAYSCALE) for file in glob.glob(\"horses/000000/*.png\")]).astype(\"float32\")\n",
    "print(horses.shape)\n",
    "\n",
    "fsd = []\n",
    "for horse in tqdm(horses):\n",
    "    for dct in cv2.dct(horse):\n",
    "        for n in dct:\n",
    "            num = int(abs(n * (10 ** -int(floor(log10(abs(n))))))) if n != 0 else 0\n",
    "            fsd.append(num)\n",
    "fsd = np.array(fsd)\n",
    "\n",
    "# count fds\n",
    "count = []\n",
    "for i in range(1,10):\n",
    "    count.append(np.count_nonzero(fsd == i))\n",
    "count = count / np.sum(count)\n",
    "print(count)\n",
    "\n",
    "bf_law = []\n",
    "for i in range(1,10):\n",
    "    bf_law.append(log10(1 + (1 / i)))\n",
    "\n",
    "df = pd.DataFrame()\n",
    "df[\"digit\"] = [1,2,3,4,5,6,7,8,9]\n",
    "df[\"MNIST FSD count\"] = count\n",
    "df[\"Benfords Law (ground truth)\"] = bf_law\n",
    "\n",
    "df.plot(x=\"digit\", y=[\"MNIST FSD count\", \"Benfords Law (ground truth)\"],\n",
    "        labels={\n",
    "            \"digit\" : \"First Significant Digit (FSD)\",\n",
    "            \"value\" : \"Probability\"\n",
    "        })\n"
   ]
  }
 ],
 "metadata": {
  "kernelspec": {
   "display_name": "Python 3.10.7 64-bit",
   "language": "python",
   "name": "python3"
  },
  "language_info": {
   "codemirror_mode": {
    "name": "ipython",
    "version": 3
   },
   "file_extension": ".py",
   "mimetype": "text/x-python",
   "name": "python",
   "nbconvert_exporter": "python",
   "pygments_lexer": "ipython3",
   "version": "3.10.7"
  },
  "orig_nbformat": 4,
  "vscode": {
   "interpreter": {
    "hash": "e7370f93d1d0cde622a1f8e1c04877d8463912d04d973331ad4851f04de6915a"
   }
  }
 },
 "nbformat": 4,
 "nbformat_minor": 2
}
