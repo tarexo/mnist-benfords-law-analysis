{
 "cells": [
  {
   "cell_type": "markdown",
   "metadata": {},
   "source": [
    "# Benfords Law Analysis\n",
    "In this notebook analyze the **distribution of first significant digits** (fsd) of different aspects of an image.\n",
    "These could be for example:\n",
    "- The raw pixel values\n",
    "- The discrete cosine transformation (DCT) values\n",
    "\n",
    "Benfords law is an observation that in many collections of numbers, be they mathematical tables, real-life data, or combinations thereof, the leading significant digits are not uniformly distributed, as might be expected, but are heavily skewed toward the smaller digits. [[1](https://digitalcommons.calpoly.edu/cgi/viewcontent.cgi?article=1074&context=rgp_rsr)]\n",
    "\n",
    "It is mathematically defined as (simplified) [[2](https://arxiv.org/pdf/1506.03046.pdf)]:\n",
    "\n",
    "$$bf(d)=\\beta log_b(1+\\frac{1}{d})$$\n",
    "\n",
    "with $b$ being base ($10$ for \"normal\" numbers) and $d$ being the possible digits (for $b=10$: $\\{1,…,9\\}$). The corresponding plot for $b=10$ does look as follows:\n",
    "\n",
    "<img src=\"./benfords_law_ground_truth.png\" alt=\"Benfords Law\">\n",
    "\n",
    "It was shown, that **natural** image data (e.g. produced fotographs) also follows this distribution, but GAN generated images do not. This fact was used successfully by Bonettini and collegues in [[3](https://arxiv.org/pdf/2004.07682.pdf)] to distinguish between real and fake images.\n",
    "\n",
    "As an example dataset we will use the famous grayscale MNIST dataset, which is included in TensorFlow Keras."
   ]
  },
  {
   "cell_type": "code",
   "execution_count": null,
   "metadata": {},
   "outputs": [],
   "source": [
    "# Import packages and settings\n",
    "import tensorflow as tf\n",
    "import numpy as np\n",
    "import pandas as pd\n",
    "from tqdm import tqdm\n",
    "import cv2\n",
    "import glob\n",
    "import numpy.typing as npt\n",
    "from math import log10, floor\n",
    "\n",
    "pd.options.plotting.backend = \"plotly\""
   ]
  },
  {
   "cell_type": "code",
   "execution_count": null,
   "metadata": {},
   "outputs": [],
   "source": [
    "FSD_SLOW = 0\n",
    "FSD_FAST = 1\n",
    "BASE_10 = 10"
   ]
  },
  {
   "cell_type": "code",
   "execution_count": null,
   "metadata": {},
   "outputs": [],
   "source": [
    "# Import and prepare data\n",
    "(train_images, train_labels), (test_images, test_labels) = tf.keras.datasets.mnist.load_data()\n",
    "images = np.append(train_images, test_images, axis=0)\n",
    "images = images.reshape(images.shape[0], 28, 28, 1).astype('float32')"
   ]
  },
  {
   "cell_type": "code",
   "execution_count": null,
   "metadata": {},
   "outputs": [],
   "source": [
    "def get_dct_array(image_list: npt.ArrayLike) -> npt.ArrayLike:\n",
    "    \"\"\"Calculates the DCT for each element in the list, flattens the result and returns a one-dimensional array.\n",
    "\n",
    "    Args:\n",
    "        image_list (npt.ArrayLike): A list of images\n",
    "\n",
    "    Returns:\n",
    "        npt.ArrayLike: A one-dimensional array of DCT values\n",
    "    \"\"\"\n",
    "    dcts = np.array([cv2.dct(image) for image in image_list])\n",
    "    dcts = dcts.flatten()\n",
    "    return dcts\n"
   ]
  },
  {
   "cell_type": "code",
   "execution_count": null,
   "metadata": {},
   "outputs": [],
   "source": [
    "def to_fsd(values: npt.ArrayLike, mode: int = FSD_FAST) -> npt.ArrayLike:\n",
    "    \"\"\"Replaces each value in values with its first significant digit.\n",
    "\n",
    "    Args:\n",
    "        values (npt.ArrayLike): An array of float values\n",
    "\n",
    "    Returns:\n",
    "        npt.ArrayLike: The first significant digits of values\n",
    "    \"\"\"\n",
    "    values = values[values != 0]\n",
    "    fsd = []\n",
    "    if mode == FSD_SLOW:\n",
    "        for value in tqdm(values):\n",
    "            num = int(abs(value * (10 ** -int(floor(log10(abs(value)))))))\n",
    "            fsd.append(num)\n",
    "    elif mode == FSD_FAST:\n",
    "        n = np.abs(values * np.power(np.full(values.shape, 10.), -np.floor(np.log10(np.abs(values).astype(\"float64\"))))).astype(\"int\")\n",
    "        fsd.extend(n)\n",
    "    return np.array(fsd)\n",
    "        "
   ]
  },
  {
   "cell_type": "code",
   "execution_count": null,
   "metadata": {},
   "outputs": [],
   "source": [
    "def count_fsds(fsds: npt.ArrayLike, base: int = BASE_10) -> npt.ArrayLike:\n",
    "    \"\"\"Counts up the occurence of each digit, depending on the base (1-9 for base 10).\n",
    "\n",
    "    Args:\n",
    "        fsds (npt.ArrayLike): An array of digits\n",
    "\n",
    "    Returns:\n",
    "        npt.ArrayLike: An array of the summed digits of length base - 1\n",
    "    \"\"\"\n",
    "    count = []\n",
    "    for i in range(1,base):\n",
    "        count.append(np.count_nonzero(fsds == i))\n",
    "    return np.array(count)"
   ]
  },
  {
   "cell_type": "code",
   "execution_count": null,
   "metadata": {},
   "outputs": [],
   "source": [
    "def benfords_law() -> npt.ArrayLike:\n",
    "    \"\"\"Create the ground truth distribution according to benfords law for base10 digits.\n",
    "\n",
    "    Returns:\n",
    "        npt.ArrayLike: The benfords law distribution for base10 digits\n",
    "    \"\"\"\n",
    "    bf_law = []\n",
    "    for i in range(1,10):\n",
    "        bf_law.append(log10(1 + (1 / i)))\n",
    "    return np.array(bf_law)"
   ]
  },
  {
   "cell_type": "code",
   "execution_count": null,
   "metadata": {},
   "outputs": [],
   "source": [
    "# Slow version (pure python): Run dct on images and gather first significant digits\n",
    "dcts = get_dct_array(images)\n",
    "fsd = to_fsd(dcts, mode=FSD_SLOW)\n",
    "\n",
    "print(f\"Shape: {fsd.shape}\")\n",
    "print(f\"Sum: {np.sum(fsd)}\")"
   ]
  },
  {
   "cell_type": "code",
   "execution_count": null,
   "metadata": {},
   "outputs": [],
   "source": [
    "# Fast version (numpy): Run dct on images and gather first significant digits\n",
    "dcts = get_dct_array(images)\n",
    "fsd = to_fsd(dcts, mode=FSD_FAST)\n",
    "\n",
    "print(f\"Shape: {fsd.shape}\")\n",
    "print(f\"Sum: {np.sum(fsd)}\")"
   ]
  },
  {
   "cell_type": "code",
   "execution_count": null,
   "metadata": {},
   "outputs": [],
   "source": [
    "# Gather first significant digits on raw images\n",
    "i = images.flatten()\n",
    "fsd = to_fsd(i)"
   ]
  },
  {
   "cell_type": "code",
   "execution_count": null,
   "metadata": {},
   "outputs": [],
   "source": [
    "# Count fsds\n",
    "fsd_count = count_fsds(fsd, base=BASE_10)\n",
    "fsd_count"
   ]
  },
  {
   "cell_type": "code",
   "execution_count": null,
   "metadata": {},
   "outputs": [],
   "source": [
    "# Calculate distribution of each digit\n",
    "fsd_count_dist = fsd_count / np.sum(fsd_count)\n",
    "fsd_count_dist"
   ]
  },
  {
   "cell_type": "code",
   "execution_count": null,
   "metadata": {},
   "outputs": [],
   "source": [
    "# generate ground truth benfords law\n",
    "bf_law = benfords_law()\n",
    "bf_law"
   ]
  },
  {
   "cell_type": "code",
   "execution_count": null,
   "metadata": {},
   "outputs": [],
   "source": [
    "# plot data tp compare fsd vs benfords law\n",
    "import plotly.express as px\n",
    "df = pd.DataFrame()\n",
    "df[\"digit\"] = [1,2,3,4,5,6,7,8,9]\n",
    "df[\"MNIST FSD count\"] = fsd_count_dist\n",
    "df[\"Benfords Law (ground truth)\"] = bf_law\n",
    "\n",
    "df.plot(x=\"digit\", y=[\"MNIST FSD count\", \"Benfords Law (ground truth)\"],\n",
    "        labels={\n",
    "            \"digit\" : \"First Significant Digit (FSD)\",\n",
    "            \"value\" : \"Probability\"\n",
    "        })"
   ]
  },
  {
   "cell_type": "code",
   "execution_count": null,
   "metadata": {},
   "outputs": [],
   "source": [
    "horses = np.array([cv2.imread(file, cv2.IMREAD_GRAYSCALE) for file in glob.glob(\"horses/000000/*.png\")]).astype(\"float32\")\n",
    "print(horses.shape)\n",
    "\n",
    "fsd = []\n",
    "for horse in tqdm(horses):\n",
    "    for dct in cv2.dct(horse):\n",
    "        for n in dct:\n",
    "            num = int(abs(n * (10 ** -int(floor(log10(abs(n))))))) if n != 0 else 0\n",
    "            fsd.append(num)\n",
    "fsd = np.array(fsd)\n",
    "\n",
    "# count fds\n",
    "count = []\n",
    "for i in range(1,10):\n",
    "    count.append(np.count_nonzero(fsd == i))\n",
    "count = count / np.sum(count)\n",
    "print(count)\n",
    "\n",
    "bf_law = []\n",
    "for i in range(1,10):\n",
    "    bf_law.append(log10(1 + (1 / i)))\n",
    "\n",
    "df = pd.DataFrame()\n",
    "df[\"digit\"] = [1,2,3,4,5,6,7,8,9]\n",
    "df[\"MNIST FSD count\"] = count\n",
    "df[\"Benfords Law (ground truth)\"] = bf_law\n",
    "\n",
    "df.plot(x=\"digit\", y=[\"MNIST FSD count\", \"Benfords Law (ground truth)\"],\n",
    "        labels={\n",
    "            \"digit\" : \"First Significant Digit (FSD)\",\n",
    "            \"value\" : \"Probability\"\n",
    "        })\n"
   ]
  }
 ],
 "metadata": {
  "kernelspec": {
   "display_name": "Python 3.10.7 64-bit",
   "language": "python",
   "name": "python3"
  },
  "language_info": {
   "codemirror_mode": {
    "name": "ipython",
    "version": 3
   },
   "file_extension": ".py",
   "mimetype": "text/x-python",
   "name": "python",
   "nbconvert_exporter": "python",
   "pygments_lexer": "ipython3",
   "version": "3.10.7"
  },
  "orig_nbformat": 4,
  "vscode": {
   "interpreter": {
    "hash": "e7370f93d1d0cde622a1f8e1c04877d8463912d04d973331ad4851f04de6915a"
   }
  }
 },
 "nbformat": 4,
 "nbformat_minor": 2
}
